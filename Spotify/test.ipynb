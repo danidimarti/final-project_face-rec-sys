{
 "cells": [
  {
   "cell_type": "code",
   "execution_count": null,
   "metadata": {},
   "outputs": [],
   "source": [
    "# Input song URI\n",
    "input_song_uri = 'spotify:track:your_input_song_uri'\n",
    "\n",
    "# Get features of input song\n",
    "input_song_features = sp.audio_features(input_song_uri)[0]\n",
    "input_song_valence = input_song_features['valence']\n",
    "input_song_energy = input_song_features['energy']\n",
    "\n",
    "# Search for songs with similar energy and valence\n",
    "search_results = sp.search(q='genre:pop', type='track', limit=50, market='US')\n",
    "\n",
    "similar_songs = []\n",
    "for track in search_results['tracks']['items']:\n",
    "    # Get features of each track\n",
    "    track_features = sp.audio_features(track['uri'])[0]\n",
    "    track_valence = track_features['valence']\n",
    "    track_energy = track_features['energy']\n",
    "    \n",
    "    # Check if the track has similar energy and valence as the input song\n",
    "    if abs(input_song_valence - track_valence) < 0.2 and abs(input_song_energy - track_energy) < 0.2:\n",
    "        similar_songs.append(track)\n",
    "        \n",
    "# Convert the list of similar songs to a pandas dataframe\n",
    "similar_songs_df = pd.DataFrame(similar_songs, columns=['name', 'uri', 'artist', 'album', 'release_date', 'popularity'])\n",
    "\n",
    "# Print the top 10 similar songs\n",
    "print(similar_songs_df.sort_values(by='popularity', ascending=False).head(10))"
   ]
  },
  {
   "cell_type": "code",
   "execution_count": null,
   "metadata": {},
   "outputs": [],
   "source": []
  },
  {
   "cell_type": "code",
   "execution_count": null,
   "metadata": {},
   "outputs": [],
   "source": [
    "import matplotlib.pyplot as plt\n",
    "import pandas as pd\n",
    "\n",
    "# Create a dataset with some example values\n",
    "data = {'valence': [0.5, 0.8, 0.6, 0.2, 0.9], \n",
    "        'arousal': [0.7, 0.3, 0.5, 0.9, 0.2], \n",
    "        'song': ['song1', 'song2', 'song3', 'song4', 'song5']}\n",
    "\n",
    "df = pd.DataFrame(data)\n",
    "\n",
    "# Define the quadrants\n",
    "quad1 = df[(df['valence'] > 0.5) & (df['arousal'] > 0.5)]\n",
    "quad2 = df[(df['valence'] < 0.5) & (df['arousal'] > 0.5)]\n",
    "quad3 = df[(df['valence'] < 0.5) & (df['arousal'] < 0.5)]\n",
    "quad4 = df[(df['valence'] > 0.5) & (df['arousal'] < 0.5)]\n",
    "\n",
    "# Add quadrant labels to the dataframe\n",
    "df.loc[quad1.index, 'quadrant'] = 'Angry'\n",
    "df.loc[quad2.index, 'quadrant'] = 'Happy'\n",
    "df.loc[quad3.index, 'quadrant'] = 'Sad'\n",
    "df.loc[quad4.index, 'quadrant'] = 'Neutral'\n",
    "\n",
    "# Create a scatter plot\n",
    "fig, ax = plt.subplots(figsize=(8,8))\n",
    "ax.scatter(quad1['valence'], quad1['arousal'], s=100, c='green', label='Positive & Energetic')\n",
    "ax.scatter(quad2['valence'], quad2['arousal'], s=100, c='red', label='Negative & Energetic')\n",
    "ax.scatter(quad3['valence'], quad3['arousal'], s=100, c='purple', label='Negative & Calm')\n",
    "ax.scatter(quad4['valence'], quad4['arousal'], s=100, c='blue', label='Positive & Calm')\n",
    "\n",
    "# Add vertical and horizontal lines at the middle of the graph\n",
    "ax.axhline(y=0.5, color='black', alpha=0.5)\n",
    "ax.axvline(x=0.5, color='black', alpha=0.5)\n",
    "\n",
    "# Add axis labels and a title\n",
    "ax.set_xlabel('Valence')\n",
    "ax.set_ylabel('Arousal')\n",
    "ax.set_title('Emotional Quadrant Graph')\n",
    "\n",
    "# Add legend\n",
    "ax.legend()\n",
    "\n",
    "# Add data labels for each point\n",
    "for i, txt in enumerate(df['song']):\n",
    "    quadrant = df['quadrant'][i]\n",
    "    if not pd.isna(quadrant):\n",
    "        label = txt + ' (' + quadrant + ')'\n",
    "    else:\n",
    "        label = txt\n",
    "    ax.annotate(label, (df['valence'][i], df['arousal'][i]))\n",
    "\n",
    "    \n",
    "# Show the plot\n",
    "plt.show()\n"
   ]
  },
  {
   "cell_type": "code",
   "execution_count": 1,
   "metadata": {},
   "outputs": [
    {
     "ename": "NameError",
     "evalue": "name 'df' is not defined",
     "output_type": "error",
     "traceback": [
      "\u001b[1;31m---------------------------------------------------------------------------\u001b[0m",
      "\u001b[1;31mNameError\u001b[0m                                 Traceback (most recent call last)",
      "Cell \u001b[1;32mIn[1], line 2\u001b[0m\n\u001b[0;32m      1\u001b[0m \u001b[39mfrom\u001b[39;00m \u001b[39mscipy\u001b[39;00m\u001b[39m.\u001b[39;00m\u001b[39mstats\u001b[39;00m \u001b[39mimport\u001b[39;00m shapiro \n\u001b[1;32m----> 2\u001b[0m shapiro(df\u001b[39m.\u001b[39mvalence)\u001b[39m.\u001b[39mpvalue\n",
      "\u001b[1;31mNameError\u001b[0m: name 'df' is not defined"
     ]
    }
   ],
   "source": [
    "from scipy.stats import shapiro \n",
    "shapiro(df.valence).pvalue"
   ]
  },
  {
   "cell_type": "code",
   "execution_count": null,
   "metadata": {},
   "outputs": [],
   "source": []
  }
 ],
 "metadata": {
  "kernelspec": {
   "display_name": "conv",
   "language": "python",
   "name": "python3"
  },
  "language_info": {
   "codemirror_mode": {
    "name": "ipython",
    "version": 3
   },
   "file_extension": ".py",
   "mimetype": "text/x-python",
   "name": "python",
   "nbconvert_exporter": "python",
   "pygments_lexer": "ipython3",
   "version": "3.9.12"
  },
  "orig_nbformat": 4
 },
 "nbformat": 4,
 "nbformat_minor": 2
}
