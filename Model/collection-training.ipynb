{
 "cells": [
  {
   "cell_type": "code",
   "execution_count": 6,
   "metadata": {},
   "outputs": [],
   "source": [
    "import math\n",
    "import numpy as np\n",
    "import pandas as pd\n",
    "\n",
    "import scikitplot\n",
    "import seaborn as sns\n",
    "from matplotlib import pyplot\n",
    "\n",
    "from sklearn.model_selection import train_test_split\n",
    "from sklearn.preprocessing import LabelEncoder\n",
    "from sklearn.metrics import classification_report\n",
    "\n",
    "import tensorflow as tf\n",
    "from keras import optimizers\n",
    "from keras.datasets import mnist\n",
    "from keras.models import Sequential\n",
    "from keras.layers import Flatten, Dense, Conv2D, MaxPooling2D\n",
    "from keras.layers import Dropout, BatchNormalization, LeakyReLU, Activation\n",
    "from keras.callbacks import Callback, EarlyStopping, ReduceLROnPlateau\n",
    "from keras.preprocessing.image import ImageDataGenerator\n",
    "\n",
    "from keras.utils import np_utils"
   ]
  },
  {
   "cell_type": "code",
   "execution_count": 7,
   "metadata": {},
   "outputs": [],
   "source": [
    "df = pd.read_csv('data/fer2013.csv')\n",
    "\n"
   ]
  },
  {
   "cell_type": "code",
   "execution_count": 8,
   "metadata": {},
   "outputs": [
    {
     "data": {
      "text/plain": [
       "3    8989\n",
       "6    6198\n",
       "4    6077\n",
       "2    5121\n",
       "0    4953\n",
       "5    4002\n",
       "1     547\n",
       "Name: emotion, dtype: int64"
      ]
     },
     "execution_count": 8,
     "metadata": {},
     "output_type": "execute_result"
    }
   ],
   "source": [
    "df.emotion.value_counts()"
   ]
  },
  {
   "cell_type": "code",
   "execution_count": 9,
   "metadata": {},
   "outputs": [
    {
     "data": {
      "text/plain": [
       "(26217, 3)"
      ]
     },
     "execution_count": 9,
     "metadata": {},
     "output_type": "execute_result"
    }
   ],
   "source": [
    "INTERESTED_LABELS = [0, 3, 4, 6]\n",
    "\n",
    "df = df[df.emotion.isin(INTERESTED_LABELS)]\n",
    "df.shape # (21264, 3)"
   ]
  },
  {
   "cell_type": "code",
   "execution_count": 10,
   "metadata": {},
   "outputs": [
    {
     "data": {
      "text/plain": [
       "(26217, 48, 48, 1)"
      ]
     },
     "execution_count": 10,
     "metadata": {},
     "output_type": "execute_result"
    }
   ],
   "source": [
    "#convert each flattened image (1D array) into a 3D array with shape (length, width, color channel) \n",
    "img_array = df.pixels.apply(lambda x: np.array(x.split(' ')).reshape(48, 48, 1).astype('float32'))\n",
    "\n",
    "#stack the images in 4D array because we feed data as batches to our model, rather then feeding it one at a time.\n",
    "img_array = np.stack(img_array, axis=0)\n",
    "img_array.shape # (21264, 48, 48, 1)\n",
    "\n"
   ]
  },
  {
   "cell_type": "code",
   "execution_count": 11,
   "metadata": {},
   "outputs": [
    {
     "data": {
      "text/plain": [
       "(26217, 4)"
      ]
     },
     "execution_count": 11,
     "metadata": {},
     "output_type": "execute_result"
    }
   ],
   "source": [
    "# encode the labels so we can better train the model. Since the label are not ordinal we enconde using one-hot enconding (0,1) \n",
    "le = LabelEncoder()\n",
    "img_labels = le.fit_transform(df.emotion)\n",
    "img_labels = np_utils.to_categorical(img_labels)\n",
    "img_labels.shape # (21264, 3)\n"
   ]
  },
  {
   "cell_type": "code",
   "execution_count": 12,
   "metadata": {},
   "outputs": [
    {
     "data": {
      "text/plain": [
       "{0: 0, 3: 1, 4: 2, 6: 3}"
      ]
     },
     "execution_count": 12,
     "metadata": {},
     "output_type": "execute_result"
    }
   ],
   "source": [
    "\n",
    "le_name_mapping = dict(zip(le.classes_, le.transform(le.classes_)))\n",
    "le_name_mapping # {3: 0, 4: 1, 6: 2} {0: 0, 3: 1, 4: 2, 6: 3}"
   ]
  },
  {
   "cell_type": "code",
   "execution_count": 13,
   "metadata": {},
   "outputs": [
    {
     "name": "stdout",
     "output_type": "stream",
     "text": [
      "(23595, 48, 48, 1) (2622, 48, 48, 1) (23595, 4) (2622, 4)\n"
     ]
    }
   ],
   "source": [
    "#suffling: split data into random order to remove inherent order or patterns in it. this ensures the data is evenly distributed\n",
    "#stratification: divides the data into homogeneous subgroups based on a characteristics (e.g. labels). \n",
    "  #this ensures that the proportion of the different classes in the dataset is maintained in both the training and the validation sets  \n",
    "  #this reduces the overfiting to a particular class/label. \n",
    "\n",
    "X_train, X_valid, y_train, y_valid = train_test_split(\n",
    "  img_array,\n",
    "  img_labels,\n",
    "  shuffle=True, \n",
    "  stratify=img_labels,\n",
    "  test_size=0.1, \n",
    "  random_state=42\n",
    ")\n",
    "\n",
    "del df\n",
    "del img_array\n",
    "del img_labels\n",
    "\n",
    "print(X_train.shape, X_valid.shape, y_train.shape, y_valid.shape)\n"
   ]
  },
  {
   "cell_type": "code",
   "execution_count": 14,
   "metadata": {},
   "outputs": [],
   "source": [
    "#Neural Networks are very sensitive to non-normalized data. \n",
    "#Use minmax normalization \n",
    "#For these gray-scaled images min=0, max=255 therefore we will divide the array by 255 because,"
   ]
  },
  {
   "attachments": {
    "image.png": {
     "image/png": "[encoded data removed]"
    }
   },
   "cell_type": "markdown",
   "metadata": {},
   "source": [
    "![image.png](attachment:image.png)"
   ]
  },
  {
   "cell_type": "code",
   "execution_count": 15,
   "metadata": {},
   "outputs": [],
   "source": [
    "# Normalizing arrays, as neural networks are very sensitive to unnormalized data.\n",
    "X_train = X_train / 255.\n",
    "X_valid = X_valid / 255.\n",
    "\n",
    "img_width = X_train.shape[1]\n",
    "img_height = X_train.shape[2]\n",
    "img_depth = X_train.shape[3]\n",
    "num_classes = y_train.shape[1]\n"
   ]
  },
  {
   "cell_type": "code",
   "execution_count": 16,
   "metadata": {},
   "outputs": [
    {
     "name": "stdout",
     "output_type": "stream",
     "text": [
      "48\n",
      "48\n",
      "1\n",
      "4\n"
     ]
    }
   ],
   "source": [
    "print(img_width)\n",
    "print(img_height)\n",
    "print(img_depth)\n",
    "print(num_classes)"
   ]
  },
  {
   "cell_type": "markdown",
   "metadata": {},
   "source": [
    "## Create Img Recognition Model\n",
    "Options:\n",
    "1. CNN: convolutional neural network. Commonly used for img rec. \n",
    "2. SVMs: support Vector Machines. More complex hyperparameters\n",
    "3. RNN: recurrent neural networks. commonly used for video frames. \n",
    "\n",
    "Find the best model by using hyperparameter tuning such as gridsearch or random_search "
   ]
  },
  {
   "cell_type": "code",
   "execution_count": 17,
   "metadata": {},
   "outputs": [],
   "source": [
    "#Create deep convolutional neural network (DCNN) model.\n",
    "def build_net(optim):\n",
    "\n",
    "    \"\"\"\n",
    "        Builds a deep convolutional neural network (DCNN) with multiple convolutional, \n",
    "        max pooling, batch normalization, and dropout layers.\n",
    "\n",
    "        Args:\n",
    "        - optim: an optimizer object that will be used during training to minimize \n",
    "        the loss function.\n",
    "\n",
    "        Returns:\n",
    "        - A compiled DCNN model that is ready to be trained on image classification tasks.\n",
    "        \"\"\"\n",
    "\n",
    "    #create Sequential Model \n",
    "    net = Sequential(name='DCNN')\n",
    "\n",
    "    # adds a 2D conv layer to the Model\n",
    "        #64 filters: can extract 64 layers of features from an img\n",
    "        # kernel: the layer will scan every 5x5 pixel window of an img\n",
    "        # input_shape: the dimension of the input img. height, width, depth. \n",
    "        # elu: applied to the output. allows for negative values to pass through the neural networks without being ignored\n",
    "            # ELU avoids the dying ReLU problems where neuros can become 'dead' and decrease in accuracy\n",
    "            # Elu has shown to achieve better performance then relu, including the Fer2012 providing smoother representation power\n",
    "        #he_normal: ensures the layers are initialized in a way that fit neural networks\n",
    "        #conv2d_1: name of the Conv for later usage\n",
    "    net.add(\n",
    "        Conv2D(\n",
    "            filters=64,\n",
    "            kernel_size=(5,5),\n",
    "            input_shape=(img_width, img_height, img_depth),\n",
    "            activation='elu',\n",
    "            padding='same',\n",
    "            kernel_initializer='he_normal',\n",
    "            name='conv2d_1'\n",
    "        )\n",
    "    )\n",
    "    # Batchnormalization: standardizes the input layers for each batch during training\n",
    "    net.add(BatchNormalization(name='batchnorm_1'))\n",
    "    net.add(\n",
    "        Conv2D(\n",
    "            filters=64,\n",
    "            kernel_size=(5,5),\n",
    "            activation='elu',\n",
    "            padding='same',\n",
    "            kernel_initializer='he_normal',\n",
    "            name='conv2d_2'\n",
    "        )\n",
    "    )\n",
    "    net.add(BatchNormalization(name='batchnorm_2'))\n",
    "    \n",
    "    # Maxpooling: reduces the size of the output \n",
    "    net.add(MaxPooling2D(pool_size=(2,2), name='maxpool2d_1'))\n",
    "\n",
    "    #Dropout: Used to prevent overfitting. Helps to prevent the network from relying too heavily in one feature\n",
    "    net.add(Dropout(0.4, name='dropout_1'))\n",
    "\n",
    "    net.add(\n",
    "        Conv2D(\n",
    "            filters=128,\n",
    "            kernel_size=(3,3),\n",
    "            activation='elu',\n",
    "            padding='same',\n",
    "            kernel_initializer='he_normal',\n",
    "            name='conv2d_3'\n",
    "        )\n",
    "    )\n",
    "    net.add(BatchNormalization(name='batchnorm_3'))\n",
    "    net.add(\n",
    "        Conv2D(\n",
    "            filters=128,\n",
    "            kernel_size=(3,3),\n",
    "            activation='elu',\n",
    "            padding='same',\n",
    "            kernel_initializer='he_normal',\n",
    "            name='conv2d_4'\n",
    "        )\n",
    "    )\n",
    "    net.add(BatchNormalization(name='batchnorm_4'))\n",
    "    \n",
    "    net.add(MaxPooling2D(pool_size=(2,2), name='maxpool2d_2'))\n",
    "    net.add(Dropout(0.4, name='dropout_2'))\n",
    "\n",
    "    net.add(\n",
    "        Conv2D(\n",
    "            filters=256,\n",
    "            kernel_size=(3,3),\n",
    "            activation='elu',\n",
    "            padding='same',\n",
    "            kernel_initializer='he_normal',\n",
    "            name='conv2d_5'\n",
    "        )\n",
    "    )\n",
    "    net.add(BatchNormalization(name='batchnorm_5'))\n",
    "    net.add(\n",
    "        Conv2D(\n",
    "            filters=256,\n",
    "            kernel_size=(3,3),\n",
    "            activation='elu',\n",
    "            padding='same',\n",
    "            kernel_initializer='he_normal',\n",
    "            name='conv2d_6'\n",
    "        )\n",
    "    )\n",
    "    net.add(BatchNormalization(name='batchnorm_6'))\n",
    "    \n",
    "    net.add(MaxPooling2D(pool_size=(2,2), name='maxpool2d_3'))\n",
    "    net.add(Dropout(0.5, name='dropout_3'))\n",
    "\n",
    "    net.add(Flatten(name='flatten'))\n",
    "    \n",
    "    # Dense: activation function that allows the network to learn the relationships between input and output.\n",
    "    net.add(\n",
    "        Dense(\n",
    "            128,\n",
    "            activation='elu',\n",
    "            kernel_initializer='he_normal',\n",
    "            name='dense_1'\n",
    "        )\n",
    "    )\n",
    "    net.add(BatchNormalization(name='batchnorm_7'))\n",
    "    \n",
    "    net.add(Dropout(0.6, name='dropout_4'))\n",
    "    \n",
    "    net.add(\n",
    "        Dense(\n",
    "            num_classes,\n",
    "            activation='softmax',\n",
    "            name='out_layer'\n",
    "        )\n",
    "    )\n",
    "    \n",
    "    net.compile(\n",
    "        loss='categorical_crossentropy',\n",
    "        optimizer=optim,\n",
    "        metrics=['accuracy']\n",
    "    )\n",
    "    \n",
    "    net.summary()\n",
    "    \n",
    "    return net"
   ]
  },
  {
   "cell_type": "code",
   "execution_count": 18,
   "metadata": {},
   "outputs": [],
   "source": [
    "#Callbacks: special functions that are called during the training at varios points. \n",
    "    # Use to perform certain action like, saving the best model, adjusting learning rate, etc. \n",
    "\n",
    "#Early Stopping: stops the training process if the validation process does not improve after a number of epochs (specified by patience param)\n",
    "    # threshold for 'improvement'specified in min_delta\n",
    "    # restore_best_weights: the model will keep the best 'weights' when the training stops\n",
    "early_stopping = EarlyStopping(\n",
    "    monitor='val_accuracy',\n",
    "    min_delta=0.00005,\n",
    "    patience=5,\n",
    "    verbose=1,\n",
    "    restore_best_weights=True,\n",
    ")\n",
    "\n",
    "#ReduceLROnPlateau: adjust the optimizer when the validation accuracy stops improving \n",
    "    #patience: specifies the number of epochs to wait before reducing the learning rate. \n",
    "    # 'min_lr': sets a minimum learning rate that can be reached.\n",
    "lr_scheduler = ReduceLROnPlateau(\n",
    "    monitor='val_accuracy',\n",
    "    factor=0.5,\n",
    "    patience=3,\n",
    "    min_lr=1e-7,\n",
    "    verbose=1,\n",
    ")\n",
    "\n",
    "#var to be passed in the fit() method to be used in the training process\n",
    "callbacks = [\n",
    "    early_stopping,\n",
    "    lr_scheduler,\n",
    "]"
   ]
  },
  {
   "cell_type": "code",
   "execution_count": 19,
   "metadata": {},
   "outputs": [],
   "source": [
    "train_datagen = ImageDataGenerator(\n",
    "    rotation_range=15,\n",
    "    width_shift_range=0.15,\n",
    "    height_shift_range=0.15,\n",
    "    shear_range=0.15,\n",
    "    zoom_range=0.15,\n",
    "    horizontal_flip=True,\n",
    ")\n",
    "\n",
    "train_datagen.fit(X_train)"
   ]
  },
  {
   "cell_type": "code",
   "execution_count": 20,
   "metadata": {},
   "outputs": [],
   "source": [
    "batch_size = 1 #batch size of 32 performs the best.\n",
    "\n",
    "epochs = 1\n",
    "\n",
    "optims = [\n",
    "  optimizers.Nadam(\n",
    "      learning_rate=0.001,\n",
    "      beta_1=0.9,\n",
    "      beta_2=0.999,\n",
    "      epsilon=1e-07,\n",
    "      name='Nadam'),\n",
    "    \n",
    "  optimizers.Adam(0.001),\n",
    "]"
   ]
  },
  {
   "cell_type": "code",
   "execution_count": 21,
   "metadata": {},
   "outputs": [
    {
     "name": "stdout",
     "output_type": "stream",
     "text": [
      "Model: \"DCNN\"\n",
      "_________________________________________________________________\n",
      " Layer (type)                Output Shape              Param #   \n",
      "=================================================================\n",
      " conv2d_1 (Conv2D)           (None, 48, 48, 64)        1664      \n",
      "                                                                 \n",
      " batchnorm_1 (BatchNormaliza  (None, 48, 48, 64)       256       \n",
      " tion)                                                           \n",
      "                                                                 \n",
      " conv2d_2 (Conv2D)           (None, 48, 48, 64)        102464    \n",
      "                                                                 \n",
      " batchnorm_2 (BatchNormaliza  (None, 48, 48, 64)       256       \n",
      " tion)                                                           \n",
      "                                                                 \n",
      " maxpool2d_1 (MaxPooling2D)  (None, 24, 24, 64)        0         \n",
      "                                                                 \n",
      " dropout_1 (Dropout)         (None, 24, 24, 64)        0         \n",
      "                                                                 \n",
      " conv2d_3 (Conv2D)           (None, 24, 24, 128)       73856     \n",
      "                                                                 \n",
      " batchnorm_3 (BatchNormaliza  (None, 24, 24, 128)      512       \n",
      " tion)                                                           \n",
      "                                                                 \n",
      " conv2d_4 (Conv2D)           (None, 24, 24, 128)       147584    \n",
      "                                                                 \n",
      " batchnorm_4 (BatchNormaliza  (None, 24, 24, 128)      512       \n",
      " tion)                                                           \n",
      "                                                                 \n",
      " maxpool2d_2 (MaxPooling2D)  (None, 12, 12, 128)       0         \n",
      "                                                                 \n",
      " dropout_2 (Dropout)         (None, 12, 12, 128)       0         \n",
      "                                                                 \n",
      " conv2d_5 (Conv2D)           (None, 12, 12, 256)       295168    \n",
      "                                                                 \n",
      " batchnorm_5 (BatchNormaliza  (None, 12, 12, 256)      1024      \n",
      " tion)                                                           \n",
      "                                                                 \n",
      " conv2d_6 (Conv2D)           (None, 12, 12, 256)       590080    \n",
      "                                                                 \n",
      " batchnorm_6 (BatchNormaliza  (None, 12, 12, 256)      1024      \n",
      " tion)                                                           \n",
      "                                                                 \n",
      " maxpool2d_3 (MaxPooling2D)  (None, 6, 6, 256)         0         \n",
      "                                                                 \n",
      " dropout_3 (Dropout)         (None, 6, 6, 256)         0         \n",
      "                                                                 \n",
      " flatten (Flatten)           (None, 9216)              0         \n",
      "                                                                 \n",
      " dense_1 (Dense)             (None, 128)               1179776   \n",
      "                                                                 \n",
      " batchnorm_7 (BatchNormaliza  (None, 128)              512       \n",
      " tion)                                                           \n",
      "                                                                 \n",
      " dropout_4 (Dropout)         (None, 128)               0         \n",
      "                                                                 \n",
      " out_layer (Dense)           (None, 4)                 516       \n",
      "                                                                 \n",
      "=================================================================\n",
      "Total params: 2,395,204\n",
      "Trainable params: 2,393,156\n",
      "Non-trainable params: 2,048\n",
      "_________________________________________________________________\n"
     ]
    },
    {
     "name": "stderr",
     "output_type": "stream",
     "text": [
      "C:\\Users\\danid\\AppData\\Local\\Temp\\ipykernel_19540\\1913433744.py:3: UserWarning: `Model.fit_generator` is deprecated and will be removed in a future version. Please use `Model.fit`, which supports generators.\n",
      "  history = model.fit_generator(\n"
     ]
    },
    {
     "name": "stdout",
     "output_type": "stream",
     "text": [
      "23595/23595 [==============================] - 1407s 60ms/step - loss: 1.3672 - accuracy: 0.3391 - val_loss: 24.1584 - val_accuracy: 0.2521 - lr: 0.0010\n"
     ]
    }
   ],
   "source": [
    "model = build_net(optims[1]) \n",
    "\n",
    "history = model.fit_generator(\n",
    "    train_datagen.flow(X_train, y_train, batch_size=batch_size),\n",
    "    validation_data=(X_valid, y_valid),\n",
    "    steps_per_epoch=len(X_train) / batch_size,\n",
    "    epochs=epochs,\n",
    "    callbacks=callbacks,\n",
    "    use_multiprocessing=False\n",
    ")"
   ]
  },
  {
   "cell_type": "code",
   "execution_count": null,
   "metadata": {},
   "outputs": [],
   "source": []
  },
  {
   "cell_type": "code",
   "execution_count": 22,
   "metadata": {},
   "outputs": [],
   "source": [
    "import h5py"
   ]
  },
  {
   "cell_type": "code",
   "execution_count": 26,
   "metadata": {},
   "outputs": [
    {
     "name": "stderr",
     "output_type": "stream",
     "text": [
      "WARNING:absl:Found untraced functions such as _jit_compiled_convolution_op, _jit_compiled_convolution_op, _jit_compiled_convolution_op, _jit_compiled_convolution_op, _jit_compiled_convolution_op while saving (showing 5 of 6). These functions will not be directly callable after loading.\n"
     ]
    },
    {
     "name": "stdout",
     "output_type": "stream",
     "text": [
      "INFO:tensorflow:Assets written to: ram://bfddc33e-8eab-4136-86e4-7345de62933a/assets\n"
     ]
    },
    {
     "name": "stderr",
     "output_type": "stream",
     "text": [
      "INFO:tensorflow:Assets written to: ram://bfddc33e-8eab-4136-86e4-7345de62933a/assets\n"
     ]
    }
   ],
   "source": [
    "model.save(\"data/cnn_model.h5\")\n",
    "import pickle\n",
    "with open('data/cnn_model.pkl', 'wb') as file:\n",
    "    pickle.dump(model, file)"
   ]
  },
  {
   "cell_type": "markdown",
   "metadata": {},
   "source": [
    "### Let's plot the results for analysis\n",
    "\n",
    "##### ps: accuracy vs validation_accuracy\n",
    "*accuracy*: how well my model is predicting. Metric for evaluation of model.  \n",
    "*validation_accuracy*: how well my model can make predictions for new data. The accuracy on the validation (test) part of the dataset. "
   ]
  },
  {
   "cell_type": "code",
   "execution_count": 24,
   "metadata": {},
   "outputs": [
    {
     "data": {
      "image/png": "[encoded data removed]",
      "text/plain": [
       "<Figure size 1200x400 with 2 Axes>"
      ]
     },
     "metadata": {},
     "output_type": "display_data"
    }
   ],
   "source": [
    "fig = pyplot.figure(0, (12, 4))\n",
    "\n",
    "# Create a subplot for the accuracy plot\n",
    "ax = pyplot.subplot(1, 2, 1)\n",
    "\n",
    "# Plot the training and validation accuracy on the same plot\n",
    "sns.lineplot(x=history.epoch, y=history.history['accuracy'], label='train', ax=ax)\n",
    "sns.lineplot(x=history.epoch, y=history.history['val_accuracy'], label='valid', ax=ax)\n",
    "pyplot.title('Accuracy')\n",
    "\n",
    "# Create a subplot for the loss plot\n",
    "ax = pyplot.subplot(1, 2, 2)\n",
    "\n",
    "# Plot the training and validation loss on the same plot\n",
    "sns.lineplot(x=history.epoch, y=history.history['loss'], label='train', ax=ax)\n",
    "sns.lineplot(x=history.epoch, y=history.history['val_loss'], label='valid', ax=ax)\n",
    "pyplot.title('Loss')\n",
    "\n",
    "pyplot.show()\n"
   ]
  },
  {
   "cell_type": "code",
   "execution_count": null,
   "metadata": {},
   "outputs": [],
   "source": []
  },
  {
   "cell_type": "code",
   "execution_count": 34,
   "metadata": {},
   "outputs": [
    {
     "data": {
      "image/png": "[encoded data removed]",
      "text/plain": [
       "<Figure size 1400x400 with 2 Axes>"
      ]
     },
     "metadata": {},
     "output_type": "display_data"
    }
   ],
   "source": [
    "df_accu = pd.DataFrame({'train': history.history['accuracy'], 'valid': history.history['val_accuracy']})\n",
    "df_loss = pd.DataFrame({'train': history.history['loss'], 'valid': history.history['val_loss']})\n",
    "\n",
    "fig = pyplot.figure(0, (14, 4))\n",
    "ax = pyplot.subplot(1, 2, 1)\n",
    "sns.violinplot(x=\"variable\", y=\"value\", data=pd.melt(df_accu), showfliers=False)\n",
    "pyplot.title('Accuracy')\n",
    "pyplot.tight_layout()\n",
    "\n",
    "ax = pyplot.subplot(1, 2, 2)\n",
    "sns.violinplot(x=\"variable\", y=\"value\", data=pd.melt(df_loss), showfliers=False)\n",
    "pyplot.title('Loss')\n",
    "pyplot.tight_layout()\n",
    "\n",
    "pyplot.savefig('performance_dist.png')\n",
    "pyplot.show()"
   ]
  },
  {
   "cell_type": "code",
   "execution_count": 25,
   "metadata": {},
   "outputs": [
    {
     "ename": "AttributeError",
     "evalue": "'Sequential' object has no attribute 'predict_classes'",
     "output_type": "error",
     "traceback": [
      "\u001b[1;31m---------------------------------------------------------------------------\u001b[0m",
      "\u001b[1;31mAttributeError\u001b[0m                            Traceback (most recent call last)",
      "Cell \u001b[1;32mIn[25], line 1\u001b[0m\n\u001b[1;32m----> 1\u001b[0m yhat_valid \u001b[39m=\u001b[39m model\u001b[39m.\u001b[39;49mpredict_classes(X_valid)\n\u001b[0;32m      2\u001b[0m scikitplot\u001b[39m.\u001b[39mmetrics\u001b[39m.\u001b[39mplot_confusion_matrix(np\u001b[39m.\u001b[39margmax(y_valid, axis\u001b[39m=\u001b[39m\u001b[39m1\u001b[39m), yhat_valid, figsize\u001b[39m=\u001b[39m(\u001b[39m7\u001b[39m,\u001b[39m7\u001b[39m))\n\u001b[0;32m      3\u001b[0m pyplot\u001b[39m.\u001b[39msavefig(\u001b[39m\"\u001b[39m\u001b[39mconfusion_matrix_dcnn.png\u001b[39m\u001b[39m\"\u001b[39m)\n",
      "\u001b[1;31mAttributeError\u001b[0m: 'Sequential' object has no attribute 'predict_classes'"
     ]
    }
   ],
   "source": [
    "yhat_valid = model.predict_classes(X_valid)\n",
    "scikitplot.metrics.plot_confusion_matrix(np.argmax(y_valid, axis=1), yhat_valid, figsize=(7,7))\n",
    "pyplot.savefig(\"confusion_matrix_dcnn.png\")\n",
    "\n",
    "print(f'total wrong validation predictions: {np.sum(np.argmax(y_valid, axis=1) != yhat_valid)}\\n\\n')\n",
    "print(classification_report(np.argmax(y_valid, axis=1), yhat_valid))"
   ]
  },
  {
   "cell_type": "code",
   "execution_count": null,
   "metadata": {},
   "outputs": [],
   "source": []
  }
 ],
 "metadata": {
  "kernelspec": {
   "display_name": "Python 3 (ipykernel)",
   "language": "python",
   "name": "python3"
  },
  "language_info": {
   "codemirror_mode": {
    "name": "ipython",
    "version": 3
   },
   "file_extension": ".py",
   "mimetype": "text/x-python",
   "name": "python",
   "nbconvert_exporter": "python",
   "pygments_lexer": "ipython3",
   "version": "3.9.12"
  }
 },
 "nbformat": 4,
 "nbformat_minor": 2
}
